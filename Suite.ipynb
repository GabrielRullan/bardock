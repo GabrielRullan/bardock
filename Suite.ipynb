{
 "cells": [
  {
   "cell_type": "code",
   "execution_count": 1,
   "metadata": {
    "collapsed": true
   },
   "outputs": [],
   "source": [
    "import os\n",
    "import sys\n",
    "module_path = os.path.abspath(os.path.join('..'))\n",
    "if module_path not in sys.path:\n",
    "    sys.path.append(module_path)"
   ]
  },
  {
   "cell_type": "code",
   "execution_count": 5,
   "metadata": {
    "collapsed": false
   },
   "outputs": [
    {
     "ename": "ImportError",
     "evalue": "No module named 'mino_repo.minorepo'",
     "output_type": "error",
     "traceback": [
      "\u001b[1;31m---------------------------------------------------------------------------\u001b[0m",
      "\u001b[1;31mImportError\u001b[0m                               Traceback (most recent call last)",
      "\u001b[1;32m<ipython-input-5-b41b2d59248b>\u001b[0m in \u001b[0;36m<module>\u001b[1;34m()\u001b[0m\n\u001b[0;32m      1\u001b[0m \u001b[1;32mimport\u001b[0m \u001b[0mpandas\u001b[0m\u001b[1;33m\u001b[0m\u001b[0m\n\u001b[1;32m----> 2\u001b[1;33m \u001b[1;32mfrom\u001b[0m \u001b[0mmino_repo\u001b[0m\u001b[1;33m.\u001b[0m\u001b[0mminorepo\u001b[0m \u001b[1;32mimport\u001b[0m \u001b[0mMinoRepo\u001b[0m\u001b[1;33m\u001b[0m\u001b[0m\n\u001b[0m",
      "\u001b[1;31mImportError\u001b[0m: No module named 'mino_repo.minorepo'"
     ]
    }
   ],
   "source": [
    "import pandas\n",
    "from mino_repo.minorepo import MinoRepo"
   ]
  },
  {
   "cell_type": "code",
   "execution_count": null,
   "metadata": {
    "collapsed": false
   },
   "outputs": [],
   "source": [
    "zfile = '../../forecasting/data/full_data_with_weather'\n",
    "partial = True\n",
    "zcols = [1,2,3,4,5,6,7]\n",
    "if partial:\n",
    "    _nrows = 10**6\n",
    "    panda_readed = pandas.read_csv(zfile, usecols = zcols , nrows= _nrows)\n",
    "else:\n",
    "    panda_readed = pandas.read_csv(zfile, usecols = zcols)\n",
    "bb = MinoRepo(panda_readed)"
   ]
  },
  {
   "cell_type": "code",
   "execution_count": null,
   "metadata": {
    "collapsed": false
   },
   "outputs": [],
   "source": [
    "del panda_readed\n",
    "_fields_to_move = ['humidity','temperature','pressure','wind_speed']\n",
    "dim_table_name = 'dim_weather'\n",
    "bb.create_dim(_fields_to_move, dim_table_name)"
   ]
  },
  {
   "cell_type": "code",
   "execution_count": null,
   "metadata": {
    "collapsed": false
   },
   "outputs": [],
   "source": [
    "_fields_to_move = 'date'\n",
    "dim_table_name = 'dim_time'\n",
    "bb.create_dim(_fields_to_move, dim_table_name)"
   ]
  },
  {
   "cell_type": "code",
   "execution_count": null,
   "metadata": {
    "collapsed": false
   },
   "outputs": [],
   "source": [
    "bb.master_tables['dim_time']['date'] = pandas.to_datetime(bb.master_tables['dim_time']['date'], format='%Y-%m-%d %H:%M:%S.%f')\n",
    "bb.master_tables['dim_time']['rDate'] = bb.master_tables['dim_time']['date'].map(lambda x: x.date())\n",
    "bb.master_tables['dim_time']['hour'] = bb.master_tables['dim_time']['date'].map(lambda x: x.hour)"
   ]
  },
  {
   "cell_type": "code",
   "execution_count": null,
   "metadata": {
    "collapsed": false
   },
   "outputs": [],
   "source": [
    "bb.create_dim('cups','dim_cups')"
   ]
  },
  {
   "cell_type": "code",
   "execution_count": null,
   "metadata": {
    "collapsed": false
   },
   "outputs": [],
   "source": [
    "bb.reshape_dims()"
   ]
  },
  {
   "cell_type": "code",
   "execution_count": null,
   "metadata": {
    "collapsed": false
   },
   "outputs": [],
   "source": [
    "bb.filter_facts('2015-09-28','date')"
   ]
  },
  {
   "cell_type": "code",
   "execution_count": null,
   "metadata": {
    "collapsed": false
   },
   "outputs": [],
   "source": [
    "bb.dim_fields"
   ]
  },
  {
   "cell_type": "code",
   "execution_count": null,
   "metadata": {
    "collapsed": true
   },
   "outputs": [],
   "source": []
  }
 ],
 "metadata": {
  "anaconda-cloud": {},
  "kernelspec": {
   "display_name": "Python [Root]",
   "language": "python",
   "name": "Python [Root]"
  },
  "language_info": {
   "codemirror_mode": {
    "name": "ipython",
    "version": 3
   },
   "file_extension": ".py",
   "mimetype": "text/x-python",
   "name": "python",
   "nbconvert_exporter": "python",
   "pygments_lexer": "ipython3",
   "version": "3.5.2"
  }
 },
 "nbformat": 4,
 "nbformat_minor": 0
}
